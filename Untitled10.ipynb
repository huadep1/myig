{
  "nbformat": 4,
  "nbformat_minor": 0,
  "metadata": {
    "colab": {
      "provenance": [],
      "authorship_tag": "ABX9TyPM1Qk/MRtFWHKidaJhRHHl",
      "include_colab_link": true
    },
    "kernelspec": {
      "name": "python3",
      "display_name": "Python 3"
    },
    "language_info": {
      "name": "python"
    }
  },
  "cells": [
    {
      "cell_type": "markdown",
      "metadata": {
        "id": "view-in-github",
        "colab_type": "text"
      },
      "source": [
        "<a href=\"https://colab.research.google.com/github/huadep1/myig/blob/main/Untitled10.ipynb\" target=\"_parent\"><img src=\"https://colab.research.google.com/assets/colab-badge.svg\" alt=\"Open In Colab\"/></a>"
      ]
    },
    {
      "cell_type": "code",
      "execution_count": null,
      "metadata": {
        "id": "Q-K08888HxPh"
      },
      "outputs": [],
      "source": [
        "import requests\n",
        "import re"
      ]
    },
    {
      "cell_type": "code",
      "source": [
        "headers = {\n",
        "    'accept': 'text/html,application/xhtml+xml,application/xml;q=0.9,image/avif,image/webp,image/apng,*/*;q=0.8,application/signed-exchange;v=b3;q=0.7',\n",
        "    'accept-language': 'vi-VN,vi;q=0.9',\n",
        "    'cache-control': 'max-age=0',\n",
        "    'dpr': '1',\n",
        "    'priority': 'u=0, i',\n",
        "    'referer': 'https://www.google.com/',\n",
        "    'sec-ch-prefers-color-scheme': 'light',\n",
        "    'sec-ch-ua': '\"Not)A;Brand\";v=\"8\", \"Chromium\";v=\"138\", \"Google Chrome\";v=\"138\"',\n",
        "    'sec-ch-ua-full-version-list': '\"Not)A;Brand\";v=\"8.0.0.0\", \"Chromium\";v=\"138.0.7204.97\", \"Google Chrome\";v=\"138.0.7204.97\"',\n",
        "    'sec-ch-ua-mobile': '?0',\n",
        "    'sec-ch-ua-model': '\"\"',\n",
        "    'sec-ch-ua-platform': '\"Windows\"',\n",
        "    'sec-ch-ua-platform-version': '\"10.0.0\"',\n",
        "    'sec-fetch-dest': 'document',\n",
        "    'sec-fetch-mode': 'navigate',\n",
        "    'sec-fetch-site': 'same-origin',\n",
        "    'sec-fetch-user': '?1',\n",
        "    'upgrade-insecure-requests': '1',\n",
        "    'user-agent': 'Mozilla/5.0 (Windows NT 10.0; Win64; x64) AppleWebKit/537.36 (KHTML, like Gecko) Chrome/138.0.0.0 Safari/537.36',\n",
        "    'viewport-width': '1241',\n",
        "}\n",
        "\n",
        "response = requests.get('https://www.instagram.com/accounts/emailsignup/', headers=headers)\n",
        "cookies = response.cookies\n",
        "cookies\n",
        "headers = response.headers"
      ],
      "metadata": {
        "collapsed": true,
        "id": "FMcFZOR3H7sr"
      },
      "execution_count": null,
      "outputs": []
    },
    {
      "cell_type": "code",
      "source": [
        "response = requests.get('https://www.instagram.com/api/v1/web/login_page/', cookies=cookies, headers=headers)\n",
        "cookies = response.cookies\n",
        "cookies\n",
        "headers = response.headers\n",
        "client_id = cookies[\"mid\"]"
      ],
      "metadata": {
        "id": "m9zeKocKL3_a"
      },
      "execution_count": null,
      "outputs": []
    },
    {
      "cell_type": "code",
      "source": [
        "data = {\n",
        "    'enc_password': '#PWD_INSTAGRAM_BROWSER:10:1752262338:AQ1QANCqB/OtZPZJYQTuqE9zzq9KCSGOWXAkp9WKQLWHbvInPKujckFli2ZV84s2yKpIDIQYbfbPINSUz8IEJWrQ9DLYln6msLo/auP3um5nNUMOOK0Lm+BD4Zhw+kKiRXN8DxFdP9FoMc7G28lDFyptdUB2',\n",
        "    'email': 'natkarigik@otpku.com',\n",
        "    'failed_birthday_year_count': '{}',\n",
        "    'first_name': 'Húa Xi Ke',\n",
        "    'username': 'huaxike4',\n",
        "    'client_id': client_id,\n",
        "    'seamless_login_enabled': '1',\n",
        "    'opt_into_one_tap': 'false',\n",
        "    'use_new_suggested_user_name': 'true',\n",
        "    'jazoest': '21765',\n",
        "}\n",
        "\n",
        "response = requests.post(\n",
        "    'https://www.instagram.com/api/v1/web/accounts/web_create_ajax/attempt/',\n",
        "    cookies=cookies,\n",
        "    headers=headers,\n",
        "    data=data,\n",
        ")"
      ],
      "metadata": {
        "id": "zgvQse-UN17m"
      },
      "execution_count": null,
      "outputs": []
    },
    {
      "cell_type": "code",
      "source": [
        "headers = {\n",
        "    'accept': 'text/html,application/xhtml+xml,application/xml;q=0.9,image/avif,image/webp,image/apng,*/*;q=0.8,application/signed-exchange;v=b3;q=0.7',\n",
        "    'accept-language': 'vi-VN,vi;q=0.9',\n",
        "    'cache-control': 'max-age=0',\n",
        "    'dpr': '1',\n",
        "    'priority': 'u=0, i',\n",
        "    'referer': 'https://www.google.com/',\n",
        "    'sec-ch-prefers-color-scheme': 'light',\n",
        "    'sec-ch-ua': '\"Not)A;Brand\";v=\"8\", \"Chromium\";v=\"138\", \"Google Chrome\";v=\"138\"',\n",
        "    'sec-ch-ua-full-version-list': '\"Not)A;Brand\";v=\"8.0.0.0\", \"Chromium\";v=\"138.0.7204.97\", \"Google Chrome\";v=\"138.0.7204.97\"',\n",
        "    'sec-ch-ua-mobile': '?0',\n",
        "    'sec-ch-ua-model': '\"\"',\n",
        "    'sec-ch-ua-platform': '\"Windows\"',\n",
        "    'sec-ch-ua-platform-version': '\"10.0.0\"',\n",
        "    'sec-fetch-dest': 'document',\n",
        "    'sec-fetch-mode': 'navigate',\n",
        "    'sec-fetch-site': 'same-origin',\n",
        "    'sec-fetch-user': '?1',\n",
        "    'upgrade-insecure-requests': '1',\n",
        "    'user-agent': 'Mozilla/5.0 (Windows NT 10.0; Win64; x64) AppleWebKit/537.36 (KHTML, like Gecko) Chrome/138.0.0.0 Safari/537.36',\n",
        "    'viewport-width': '1241',\n",
        "}"
      ],
      "metadata": {
        "id": "c_ohLh6jPuOW"
      },
      "execution_count": null,
      "outputs": []
    },
    {
      "cell_type": "code",
      "source": [
        "from typing_extensions import final\n",
        "import httpx\n",
        "\n",
        "client = httpx.Client(headers=headers)\n",
        "client_id: str = None\n",
        "\n",
        "def create_session(client: httpx.Client) -> bool:\n",
        "  try:\n",
        "    client.get(\n",
        "      'https://www.instagram.com/accounts/emailsignup/').raise_for_status()\n",
        "  except Exception as e:\n",
        "    print(e)\n",
        "    return False\n",
        "  finally:\n",
        "    client.get(\n",
        "      'https://www.instagram.com/api/v1/web/login_page/').raise_for_status()\n",
        "    client_id = client.cookies.get(\"mid\")\n",
        "    return True\n",
        "  return False\n",
        "\n",
        "\n",
        "def sign_up_session(client: httpx.Client,\n",
        "                    email: str,\n",
        "                    first_name: str,\n",
        "                    username: str,\n",
        "                    client_id: str) -> bool:\n",
        "\n",
        "    response = client.post(\"https://www.instagram.com/api/v1/web/accounts/web_create_ajax/attempt/aaa\",\n",
        "                           data = {\n",
        "    'enc_password': '#PWD_INSTAGRAM_BROWSER:10:1752262338:AQ1QANCqB/OtZPZJYQTuqE9zzq9KCSGOWXAkp9WKQLWHbvInPKujckFli2ZV84s2yKpIDIQYbfbPINSUz8IEJWrQ9DLYln6msLo/auP3um5nNUMOOK0Lm+BD4Zhw+kKiRXN8DxFdP9FoMc7G28lDFyptdUB2',\n",
        "    'email': 'natkarigik@otpku.com',\n",
        "    'failed_birthday_year_count': '{}',\n",
        "    'first_name': 'Húa Xi Ke',\n",
        "    'username': 'huaxike4',\n",
        "    'client_id': 'aHFmOgALAAEpcWwk09ob9suL48Tf',\n",
        "    'seamless_login_enabled': '1',\n",
        "    'opt_into_one_tap': 'false',\n",
        "    'use_new_suggested_user_name': 'true',\n",
        "    'jazoest': '21765',\n",
        "                           })\n",
        "    response.raise_for_status()\n",
        "    print(response)\n",
        "    return True"
      ],
      "metadata": {
        "id": "dii8HaqbOeXk"
      },
      "execution_count": null,
      "outputs": []
    }
  ]
}